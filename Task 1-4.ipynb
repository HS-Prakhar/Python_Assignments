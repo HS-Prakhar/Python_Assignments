{
 "cells": [
  {
   "cell_type": "markdown",
   "metadata": {},
   "source": [
    "### 1. Python Program to Find the Largest Number in a List:"
   ]
  },
  {
   "cell_type": "code",
   "execution_count": 92,
   "metadata": {},
   "outputs": [
    {
     "name": "stdout",
     "output_type": "stream",
     "text": [
      "The Largest Number in List1 = 243\n"
     ]
    }
   ],
   "source": [
    "List1 = [12, 13, 4, 243, 6, 43, 34]\n",
    "List1.sort()\n",
    "print(\"The Largest Number in List1 =\", List1[-1])"
   ]
  },
  {
   "cell_type": "markdown",
   "metadata": {},
   "source": [
    "### 2. Python Program to Find the Second Largest Number in a List:"
   ]
  },
  {
   "cell_type": "code",
   "execution_count": 97,
   "metadata": {},
   "outputs": [
    {
     "name": "stdout",
     "output_type": "stream",
     "text": [
      "The Second Largest Number in List1 = 43\n"
     ]
    }
   ],
   "source": [
    "print(\"The Second Largest Number in List1 =\", List1[-2]) # using above reference"
   ]
  },
  {
   "cell_type": "markdown",
   "metadata": {},
   "source": [
    "### 3. Python Program to Merge Two Lists and Sort it:"
   ]
  },
  {
   "cell_type": "code",
   "execution_count": 85,
   "metadata": {},
   "outputs": [],
   "source": [
    "list2 = [2, 34, 32, 23, 23, 22, 33]\n",
    "list3 = [20, 35, 67, 99, 8]"
   ]
  },
  {
   "cell_type": "code",
   "execution_count": 95,
   "metadata": {},
   "outputs": [],
   "source": [
    "merge = list2 + list3 # merging"
   ]
  },
  {
   "cell_type": "code",
   "execution_count": 98,
   "metadata": {},
   "outputs": [
    {
     "name": "stdout",
     "output_type": "stream",
     "text": [
      "[2, 8, 20, 22, 23, 23, 32, 33, 34, 35, 67, 99]\n"
     ]
    }
   ],
   "source": [
    "merge.sort() # by default sorting is in ascending order when calling sort() function\n",
    "print(merge)"
   ]
  },
  {
   "cell_type": "code",
   "execution_count": 105,
   "metadata": {},
   "outputs": [
    {
     "data": {
      "text/plain": [
       "[99, 67, 35, 34, 33, 32, 23, 23, 22, 20, 8, 2]"
      ]
     },
     "execution_count": 105,
     "metadata": {},
     "output_type": "execute_result"
    }
   ],
   "source": [
    "merge.sort(reverse = True) # sorting in descending order\n",
    "merge # print statement is not mandatory in jupyter notebook"
   ]
  },
  {
   "cell_type": "markdown",
   "metadata": {},
   "source": [
    "### 4. Python Program to Swap the First and Last Value of a List:"
   ]
  },
  {
   "cell_type": "code",
   "execution_count": 106,
   "metadata": {},
   "outputs": [
    {
     "name": "stdout",
     "output_type": "stream",
     "text": [
      "Swapped List = [39, 21, 40, 56, 20]\n"
     ]
    }
   ],
   "source": [
    "data = [20, 21, 40, 56, 39]\n",
    "first = data.pop(0)\n",
    "last = data.pop(-1)\n",
    "data.insert(0, last)\n",
    "data.append(first)\n",
    "print(\"Swapped List =\", data)"
   ]
  },
  {
   "cell_type": "code",
   "execution_count": 4,
   "metadata": {},
   "outputs": [
    {
     "name": "stdout",
     "output_type": "stream",
     "text": [
      "Swapped List = [67, 20, 21, 40, 56, 39, 67, 20]\n"
     ]
    }
   ],
   "source": [
    "data = [20, 21, 40, 56, 39, 67] \n",
    "first = data[0]                 # without using pop() function\n",
    "last = data[-1]\n",
    "data.insert(0, last)\n",
    "data.append(first)\n",
    "print(\"Swapped List =\", data)"
   ]
  }
 ],
 "metadata": {
  "kernelspec": {
   "display_name": "Python 3",
   "language": "python",
   "name": "python3"
  },
  "language_info": {
   "codemirror_mode": {
    "name": "ipython",
    "version": 3
   },
   "file_extension": ".py",
   "mimetype": "text/x-python",
   "name": "python",
   "nbconvert_exporter": "python",
   "pygments_lexer": "ipython3",
   "version": "3.8.3"
  }
 },
 "nbformat": 4,
 "nbformat_minor": 4
}
